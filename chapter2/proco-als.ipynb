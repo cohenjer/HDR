{
 "cells": [
  {
   "cell_type": "markdown",
   "id": "89556752",
   "metadata": {},
   "source": [
    "# Proco-ALS for fast NCPD\n",
    "\n",
    ":::{admonition} Reference\n",
    ":class: tip\n",
    "{cite}`Cohen2015Fast` J. E. Cohen, R. C. Farias, and P. Comon, \"Fast decomposition of large nonnegative tensors,\" IEEE Signal Processing Letters, vol. 22, no. 7, pp. 862-866, 2015. [pdf](https://hal.archives-ouvertes.fr/hal-01069069/document)\n",
    ":::\n",
    "\n",
    "## Projected least squares for solving NNLS\n",
    "\n",
    "When discussing nonnegative least squares algorithms, we overlooked one possible naive idea to compute an approximate solution: first compute the unconstrainted least squares solution, then project it on the nonnegative orthant. Given an NNLS problem NNLS(A,b), this means computing\n",
    "```python\n",
    "    x_hat = tl.solve(A,b)\n",
    "    x_hat[x_hat<0] = 0\n",
    "```\n",
    "While this solution is not optimal (in fact there are NNLS instances for which is is arbitrarily far from the solution, see below), it can be much faster to compute in particular for large and/or structured $A$ for which highly optimized least squares solvers exist.\n",
    "\n",
    "A naive algorithm then consists in running the solve-then-project (STP) routine as the solver for ALS to compute nonnegative CP. A pitfall to avoid is that sign ambiguity might mean columns of a factor are all negative at some iteration after the solve operation. Then the projection on the nonnegative orthant yield a zero vector which makes the next solve ill-posed. A work-around is to flip negative vectors when they occur. The obtained algorithm is coined Pro-ALS (Projected ALS)."
   ]
  },
  {
   "cell_type": "code",
   "execution_count": 1,
   "id": "452b1442",
   "metadata": {},
   "outputs": [],
   "source": [
    "import tensorly as tl\n",
    "from tensorly.tenalg import unfolding_dot_khatri_rao\n",
    "from tensorly.decomposition import non_negative_parafac_hals\n",
    "from tensorly_hdr.gradients import get_pseudo_inverse, err_calc_simple\n",
    "from copy import deepcopy\n",
    "\n",
    "def pro_als_basic(T, r, init, itermax = 100):\n",
    "    # Input tensor T, rank of cp decomposition rank r, init is a cp_tensor\n",
    "    cp_e = deepcopy(init) # estimated cp_tensor\n",
    "    norm_tensor = tl.norm(T, 2) ** 2\n",
    "    err = []\n",
    "    for i in range(itermax): # iterative algorithm loop\n",
    "        for mode in range(T.ndim): # alternating algorithm loop\n",
    "            # form MTTKRP, pseudo-inverse and solve least squares\n",
    "            mttkrp = unfolding_dot_khatri_rao(T, cp_e, mode)\n",
    "            pseudo_inverse = get_pseudo_inverse(cp_e, r, mode, T)\n",
    "            factor = tl.transpose(tl.solve(tl.transpose(pseudo_inverse), tl.transpose(mttkrp)))\n",
    "            # Projection\n",
    "            # if factor is full negative, flip it\n",
    "            support = factor<0\n",
    "            for q in range(r):\n",
    "                if support[:,q].all():\n",
    "                    factor[:,q] = -factor[:,q]\n",
    "                else:\n",
    "                    factor[:,q][support[:,q]] = 0\n",
    "            cp_e[1][mode]=factor\n",
    "            \n",
    "        # compute error\n",
    "        err.append(err_calc_simple(cp_e,mttkrp,norm_tensor))\n",
    "        # BUG ?? this normalizes the tensor by default??\n",
    "        #unnorml_rec_error, _, _ = error_calc(T, norm_tensor, None, cp_e[1], 0, None, mttkrp=mttkrp)\n",
    "            \n",
    "    return cp_e, err"
   ]
  },
  {
   "cell_type": "markdown",
   "id": "c84d3db1",
   "metadata": {},
   "source": [
    "We can test this algorithms for computing nonnegative CP on a simple synthetic example."
   ]
  },
  {
   "cell_type": "code",
   "execution_count": 2,
   "id": "8648aa9f",
   "metadata": {},
   "outputs": [
    {
     "name": "stdout",
     "output_type": "stream",
     "text": [
      "[np.float64(0.505870504460929), np.float64(0.1950308630756858), np.float64(0.08570352607301525), np.float64(0.06190802340504497), np.float64(0.05282151348163358), np.float64(0.047044779552810466), np.float64(0.042586346658809796), np.float64(0.03876173553223778), np.float64(0.03535605072579704), np.float64(0.03228208049275776), np.float64(0.029492865564896532), np.float64(0.026955857762743205), np.float64(0.02464505105681882), np.float64(0.0225382755328287), np.float64(0.02061610841872958), np.float64(0.018861325077320232), np.float64(0.017258551545179985), np.float64(0.015794007649550013), np.float64(0.014455301544932356), np.float64(0.013231259556476424), np.float64(0.012111782954647154), np.float64(0.01108772623126309), np.float64(0.01015079286416632), np.float64(0.009293445435410597), np.float64(0.008508827609700165), np.float64(0.007790695979904665), np.float64(0.0071333601782428025), np.float64(0.006531629966812038), np.float64(0.005980768264738659), np.float64(0.005476449265316116), np.float64(0.005014720947867322), np.float64(0.004591971410774492), np.float64(0.004204898549021105), np.float64(0.003850482676123287), np.float64(0.003525961748521767), np.float64(0.003228808907585911), np.float64(0.002956712089640187), np.float64(0.0027075554832764396), np.float64(0.0024794026592238777), np.float64(0.0022704811926349553), np.float64(0.0020791686498143167), np.float64(0.0019039797939073466), np.float64(0.0017435549100348674), np.float64(0.001596649139460636), np.float64(0.0014621227331228811), np.float64(0.0013389321428833472), np.float64(0.0012261218727492179), np.float64(0.0011228170363105524), np.float64(0.0010282165310985423), np.float64(0.0009415868149906907), np.float64(0.0008622561903889652), np.float64(0.0007896095846066799), np.float64(0.0007230837785003835), np.float64(0.0006621630205229574), np.float64(0.0006063750329370514), np.float64(0.0005552873331123758), np.float64(0.0005085038896414796), np.float64(0.0004656620454782036), np.float64(0.00042642969761252166), np.float64(0.00039050273359048104), np.float64(0.000357602661208046), np.float64(0.00032747446030385847), np.float64(0.0002998845832660904), np.float64(0.0002746191785834935), np.float64(0.00025148240465372755), np.float64(0.00023029491385912902), np.float64(0.0002108924951263269), np.float64(0.00019312472890666487), np.float64(0.0001768539066633241), np.float64(0.0001619539119099605), np.float64(0.00014830924442685035), np.float64(0.0001358141500836302), np.float64(0.000124371768635953), np.float64(0.0001138934108728143), np.float64(0.00010429786733838356), np.float64(9.551074298149725e-05), np.float64(8.746393170131834e-05), np.float64(8.009507627261976e-05), np.float64(7.334704533026062e-05), np.float64(6.716754566178426e-05), np.float64(6.150865066348394e-05), np.float64(5.6326531228386254e-05), np.float64(5.158101895929862e-05), np.float64(4.7235298963841135e-05), np.float64(4.325571739139159e-05), np.float64(3.961140115761621e-05), np.float64(3.627414004696491e-05), np.float64(3.3218027357124134e-05), np.float64(3.0419398494716796e-05), np.float64(2.785658002688276e-05), np.float64(2.5509639016687217e-05), np.float64(2.3360420706006833e-05), np.float64(2.1392297165961646e-05), np.float64(1.9590012059111363e-05), np.float64(1.793953760514027e-05), np.float64(1.6428163596255645e-05), np.float64(1.5044034045851093e-05), np.float64(1.3776540572614026e-05), np.float64(1.2615925364802315e-05), np.float64(1.1553003946976563e-05)]\n",
      "[np.float64(0.37688353807844016), np.float64(0.03419944536681967), np.float64(0.0039919985447539955), np.float64(0.0024412251250394384), np.float64(0.001546401199921483), np.float64(0.0011054069730313818), np.float64(0.0008478902101911837), np.float64(0.0006845533023030496), np.float64(0.0005641060376801512), np.float64(0.0004666681030896087), np.float64(0.0003869812597953609), np.float64(0.0003215156969073766), np.float64(0.00026754223885577046), np.float64(0.0002229168713379393), np.float64(0.0001859339117941201), np.float64(0.0001552247433352433), np.float64(0.00012968361217730325), np.float64(0.00010841197734342059), np.float64(9.067609602381317e-05), np.float64(7.587429515401196e-05), np.float64(6.35114485445087e-05), np.float64(5.317888444605275e-05), np.float64(4.453843338950461e-05), np.float64(3.7309666765958186e-05), np.float64(3.1259619192260894e-05), np.float64(2.6194462364898803e-05), np.float64(2.195272522051337e-05), np.float64(1.8399748739206067e-05), np.float64(1.542313325503393e-05), np.float64(1.2928988436652055e-05), np.float64(1.0838835819172032e-05), np.float64(9.087044292038705e-06), np.float64(7.618702558856801e-06), np.float64(6.387851130132105e-06), np.float64(5.356010961531377e-06), np.float64(4.4909574937153385e-06), np.float64(3.765698103069157e-06), np.float64(3.1576184920986325e-06), np.float64(2.6477695755276432e-06), np.float64(2.2202713876670234e-06), np.float64(1.86181453988864e-06), np.float64(1.5612430921044724e-06), np.float64(1.309205413269301e-06), np.float64(1.097861856445412e-06), np.float64(9.206399474542994e-07), np.float64(7.72029315822631e-07), np.float64(6.474098842685662e-07), np.float64(5.429079053477534e-07), np.float64(4.5527531214200065e-07), np.float64(3.817885981825484e-07), np.float64(3.201640594960746e-07), np.float64(2.6848674374899427e-07), np.float64(2.2515088492220456e-07), np.float64(1.8880997026315813e-07), np.float64(1.583348698595506e-07), np.float64(1.3277873784132683e-07), np.float64(1.1134757648332727e-07), np.float64(9.337556175046294e-08), np.float64(7.830434726705836e-08), np.float64(6.566571470268607e-08), np.float64(5.506702492913593e-08), np.float64(4.617901461347212e-08)]\n"
     ]
    }
   ],
   "source": [
    "# We can test it as such\n",
    "rank=2\n",
    "dims = [10,10,10]\n",
    "cp_true = tl.random.random_cp(dims, rank) # rank 2, dim 10x10x10\n",
    "cp_true[0] = None # no weights\n",
    "init_cp = tl.random.random_cp(dims, rank)\n",
    "init_cp[0] = None\n",
    "for i in range(3):\n",
    "    cp_true[1][i] = tl.maximum(cp_true[1][i],0)\n",
    "    init_cp[1][i] = tl.maximum(init_cp[1][i],0)\n",
    "T = cp_true.to_tensor()\n",
    "cp_e, err = pro_als_basic(T, rank, init_cp)\n",
    "# Comparison with tensorly nn_cp hals\n",
    "err_hals = []\n",
    "def err_ret(_,b):\n",
    "    err_hals.append(b)\n",
    "    \n",
    "out2 = non_negative_parafac_hals(T, rank, init=deepcopy(init_cp), callback=err_ret)\n",
    "print(err)\n",
    "print(err_hals)"
   ]
  },
  {
   "cell_type": "markdown",
   "id": "7402d497",
   "metadata": {},
   "source": [
    "Use this to decompose one of the example nn tensors, see it works (ish), have to be careful.\n",
    "Cite my work:{cite}`li:2019:sparse.tensor.reordering`"
   ]
  },
  {
   "cell_type": "markdown",
   "id": "a282a0ad",
   "metadata": {},
   "source": [
    "The cost at each Proco-ALS iteration empirically goes down although this cannot be guaranteed. The algorithm is much slower per iteration than the HALS algorithm, but the cost per iteration is significantly lower [todo show]."
   ]
  },
  {
   "cell_type": "markdown",
   "id": "1c6dfa35",
   "metadata": {},
   "source": [
    "## Proco-ALS\n",
    "\n",
    "### Tucker compression for faster CP-Decomposition\n",
    "\n",
    "The true interest of Pro-ALS is when it is used in conjonction with Tucker compression. The idea of Tucker compression is to first compute an orthogonal, approximate Tucker decomposition with small inner dimensions using e.g. HOSVD, then work on the resulting smaller core tensor to compute the CP decomposition.\n",
    "\n",
    "[insert figure]\n",
    "\n",
    "Mathematically, this makes sense because of the associativity of the multiway tensor product:\n",
    "\n",
    "$$ T = \\left( A \\otimes B \\otimes C \\right) I_r = \\left( UA_c \\otimes VB_c \\otimes WC_c \\right) I_r = \\left(U\\otimes V\\otimes W \\right) \\left(A_c\\otimes B_c\\otimes C_c \\right) I_r $$\n",
    "\n",
    "where the tensor $\\left(A_c\\otimes B_c\\otimes C_c \\right) I_r \\in \\mathbb{R}^{r_1\\times r_2\\times r_3}$ can be understood as a core tensor $G$ with a CP decomposition of rank $r$ and small factors $A_c,B_c,C_c$.\n",
    "\n",
    "In Tensorly we can perform Tucker compression (also called CANDELINC~\\ref{}) easily as follows"
   ]
  },
  {
   "cell_type": "code",
   "execution_count": null,
   "id": "cd36e846",
   "metadata": {},
   "outputs": [],
   "source": [
    "cp_true = tl.random.random_cp([100,100,100], 3)\n",
    "T = cp_true.to_tensor()\n",
    "\n",
    "# Perform Tucker on T\n",
    "t_tensor = tl.decomposition.tucker(T, [3,3,3])\n",
    "# Perform CP on G\n",
    "G = t_tensor[0]\n",
    "small_cp_est = tl.decomposition.parafac(G, 3)\n",
    "# Recover larger cp by chain rule\n",
    "cp_est = tl.cp_tensor.CPTensor((small_cp_est[0], [t_tensor[1][i]@small_cp_est[1][i] for i in range(T.ndim)]))\n",
    "\n",
    "# Reconstruction error\n",
    "print(tl.norm(cp_est.to_tensor() - T)/tl.norm(T))\n",
    "\n",
    "# Comparing with direct cp algorithm\n",
    "cp_est_direct = tl.decomposition.parafac(T, 3)\n",
    "print(tl.norm(cp_est_direct.to_tensor() - T)/tl.norm(T))"
   ]
  },
  {
   "cell_type": "markdown",
   "id": "ea802a92",
   "metadata": {},
   "source": [
    "### Tucker compression for Nonnegative CP\n",
    "\n",
    "This procedure is standard for unconstrained CP as it offers little inconvenience when high precision is not required. It is highly recommended in the scenario where several CP decompositions of the same tensor are to be computed.\n",
    "\n",
    "However for nonnegative CP, when working on the core tensor $G$, one has to keep in mind that nonnegativity applies on the original factors, not the small compressed ones. It means that when updating e.g. factor $A_c$ during the CP decomposition of $G$, the problem to solve is\n",
    "\n",
    "$$ \\min_{UA_c\\geq 0} \\|G_{[1]} - A_c\\left(B_c \\odot C_c \\right)^T \\|_F^2 $$\n",
    "\n",
    "which is not a typical NNLS problem. It is still a quadratic program, we can solve it up to machine precision with a variety of algorithms. However these algorithms might be costly. Consider for instance a projected gradient descent algorithm\n",
    "\n",
    "$$ A_c^{k+1} = \\Pi_{U\\cdot\\geq 0}\\left[ A_c - \\eta \\left( G_{[1]}\\left(B_c \\odot C_c\\right) + \\left(B_c^TB_c \\ast C_c^TC_c \\right)\\right)\\right] $$\n",
    "\n",
    "The cost of the gradient step is low because of Tucker compression, but conversely the cost of the projection on the positive cone of $U$ can be consequent if $U$ is a large matrix (which is exactly the setup we consider for Tucker compression). This projection is in fact exactly a collection of $n_1$ NNLS problem of dimensions $r$, with $n_1$ the dimension in the first mode of the original tensor. \n",
    "\n",
    "In our work [ref, date], we proposed to use the Pro-ALS idea to avoid resorting to NNLS solvers entirely. This gave birth to the Proco-ALS algorithm detailed below. We first solve the least squares problem unconstrained, then project on the constraint set $UA_c\\geq0$. As mentioned above, such a projection is also costly, therefore we use a heuristic approximate projection\n",
    "\n",
    "$$ \\hat{\\Pi}(y) = U^T\\left[Ux\\right]_+ $$\n",
    "\n",
    "It turns out that $\\hat{\\Pi}$ is one iteration of alternating projection on convex sets (projection on the nonnegative orthant, and on the linear span of $U$ since $U$ is a frame). In particular it is a non-expensive operator. This means that iterating $\\hat{\\Pi}$ several times would converge towards $\\Pi$. However for performance reasons we only suggest to run it once."
   ]
  },
  {
   "cell_type": "code",
   "execution_count": null,
   "id": "cf4be833",
   "metadata": {},
   "outputs": [],
   "source": [
    "def proco_als(G, r, init, comp_facs, itermax=100):\n",
    "    # Input tensor G, rank of cp decomposition rank r, init is a cp_tensor, comp_facs are U,V,W\n",
    "    cp_e = deepcopy(init) # estimated cp_tensor\n",
    "    norm_tensor = tl.norm(G, 2) ** 2\n",
    "    err = []\n",
    "    for i in range(itermax): # iterative algorithm loop\n",
    "        for mode in range(G.ndim): # alternating algorithm loop\n",
    "            # form MTTKRP, pseudo-inverse and solve least squares\n",
    "            mttkrp = unfolding_dot_khatri_rao(G, cp_e, mode)\n",
    "            pseudo_inverse = get_pseudo_inverse(cp_e, r, mode, G)\n",
    "            factor = tl.transpose(tl.solve(tl.transpose(pseudo_inverse), tl.transpose(mttkrp)))\n",
    "            \n",
    "            # Projection on UA_c >= 0\n",
    "            # First decompress\n",
    "            factor_big = comp_facs[mode]@factor\n",
    "            # if factor is full negative, flip it, otherwise project\n",
    "            support = factor_big<0\n",
    "            for q in range(r):\n",
    "                if support[:,q].all():\n",
    "                    factor_big[:,q] = -factor_big[:,q]\n",
    "                else:\n",
    "                    factor_big[:,q][support[:,q]] = 0\n",
    "            # recompress\n",
    "            factor = comp_facs[mode].T@factor_big\n",
    "            cp_e[1][mode]=factor\n",
    "            \n",
    "        # compute error in the compressed domain\n",
    "        err.append(err_calc_simple(cp_e,mttkrp,norm_tensor))\n",
    "            \n",
    "    return cp_e, err"
   ]
  },
  {
   "cell_type": "markdown",
   "id": "c3056bc1",
   "metadata": {},
   "source": [
    "Again we can test this proposed Proco-ALS algorithm on a simple synthetic dataset."
   ]
  },
  {
   "cell_type": "code",
   "execution_count": null,
   "id": "411f5262",
   "metadata": {},
   "outputs": [],
   "source": [
    "cp_true = tl.random.random_cp([100,100,100], 3)\n",
    "init_cp = tl.random.random_cp([100,100,100], 3)\n",
    "for i in range(3):\n",
    "    cp_true[1][i] = tl.maximum(cp_true[1][i],0)\n",
    "    init_cp[1][i] = tl.maximum(init_cp[1][i],0)\n",
    "cp_true[0] = None\n",
    "init_cp[0] = None\n",
    "T = cp_true.to_tensor()\n",
    "\n",
    "# Perform Tucker on T\n",
    "t_tensor = tl.decomposition.tucker(T, [3,3,3])\n",
    "# Perform CP on G\n",
    "G = t_tensor[0]\n",
    "init_small = tl.cp_tensor.CPTensor((None,[t_tensor[1][i].T@init_cp[1][i] for i in range(T.ndim)]))\n",
    "small_cp_est, err = proco_als(G, 3, init_small, t_tensor[1])\n",
    "# Recover larger cp by chain rule\n",
    "cp_est = tl.cp_tensor.CPTensor((small_cp_est[0], [t_tensor[1][i]@small_cp_est[1][i] for i in range(T.ndim)]))\n",
    "\n",
    "# Reconstruction error\n",
    "print(tl.norm(cp_est.to_tensor() - T)/tl.norm(T))\n",
    "\n",
    "# Comparing with direct cp algorithm\n",
    "cp_est_direct = tl.decomposition.non_negative_parafac_hals(T, 3)\n",
    "print(tl.norm(cp_est_direct.to_tensor() - T)/tl.norm(T))"
   ]
  },
  {
   "cell_type": "markdown",
   "id": "859787ac",
   "metadata": {},
   "source": [
    "```{admonition} Note on the Projection $\\Pi$\n",
    "\n",
    "We use KKT to show that solving\n",
    "\n",
    "$$ \\min_{Ux\\geq 0} \\frac{1}{2} \\|x - \\hat{x}\\|_2^2 $$\n",
    "\n",
    "is equivalent to an NNLS problem\n",
    "\n",
    "$$ \\min_{z\\geq 0} \\frac{1}{2} \\|U^Tz + \\hat{x}\\|_2^2 $$\n",
    "\n",
    "This equivalence also has a geometric interpretation: we either project $-\\hat{x}$ on the dual cone of $U$ (second problem) or find the closest element to $\\hat{x}$ in the intersection of half planes (first problem). \n",
    "\n",
    "[insert figure]\n",
    "\n",
    "The Lagrangian for the projection problem writes $L(x,\\mu) = \\frac{1}{2}\\|x - \\hat{x} \\|_2^2  - \\mu^TUx$\n",
    "which when minimized w.r.t. $x$ yields $x^\\ast = \\hat{x} + U^T\\mu^\\ast$.\n",
    "\n",
    "The dual problem is therefore formalized as \n",
    "$ \\min_{\\mu\\geq 0} -\\frac{1}{2}\\|U^T\\mu\\|_2^2 + \\|U^T\\mu\\|_2^2 + \\mu^TU\\hat{x}$ which has the same minimizer than $\\min_{z\\geq 0} \\frac{1}{2} \\|U^Tz + \\hat{x}\\|_2^2$\n",
    "\n",
    "To summarize, we may compute the projection $\\Pi_{U\\cdot}(y)$ by first solving several small NNLS problems with mixing matrix $U^T$. This yields $z$. Then we compute the projection by using the primal-dual relationship $\\Pi_{U\\cdot}(y) = y + U^Tz$.\n",
    "```"
   ]
  },
  {
   "cell_type": "markdown",
   "id": "e01f65d9",
   "metadata": {},
   "source": [
    "```{admonition} Note on the suboptimality of projected least squares estimates\n",
    "Using $\\left[A^\\dagger b\\right]_+$ as the solution to an NNLS problem $\\min_{x\\geq 0} \\|Ax - b\\|_2^2$ can be a terrible idea for some problem instances. We can use numpy to generate examples where projected least squares solutions are arbitrarily far from the true NNLS solutions, even in two dimensions. This may happen in particular when the linear system is poorly conditionned. In the plot below, the projected least squares solution is always zero, but the NNLS solution can be made arbitrarily large by stretching and rotating the mixing matrix $A$ as desired.\n",
    "```"
   ]
  },
  {
   "cell_type": "code",
   "execution_count": null,
   "id": "43141246",
   "metadata": {},
   "outputs": [],
   "source": [
    "import numpy as np\n",
    "import matplotlib.pyplot as plt\n",
    "# Generate data\n",
    "grid_x = np.meshgrid(np.linspace(-1,1,50),np.linspace(-2,2,50))\n",
    "grid_z = np.copy(grid_x[0])\n",
    "theta = 3.14/12\n",
    "A = np.array([[1,0],[0,0.01]])@np.array([[np.cos(theta), -np.sin(theta)],[np.sin(theta), np.cos(theta)]]) #scale and rotate\n",
    "x_LS = np.array([-0.5,-0.2])\n",
    "b = A@x_LS\n",
    "\n",
    "# LS, Pro-LS, NNLS sols\n",
    "x_pro_LS = np.maximum(x_LS,0)\n",
    "x_NNLS = tl.solvers.nnls.active_set_nnls(A.T@b,A.T@A)\n",
    "\n",
    "# Plot \n",
    "for i in range(grid_z.shape[0]):\n",
    "    for j in range(grid_z.shape[1]):\n",
    "        grid_z[j,i] = np.linalg.norm(b - A@np.array([grid_x[0][0][i],grid_x[1][j][0]]))\n",
    "plt.contourf(grid_x[0], grid_x[1], grid_z)\n",
    "plt.plot([0,1],[0,0],'r')\n",
    "plt.plot([0,0],[0,2],'r')\n",
    "plt.scatter(x_LS[0],x_LS[1]) # Least squares solution is blue dot\n",
    "plt.scatter(x_pro_LS[0],x_pro_LS[1]) # Pro-LS is orange dot (zero)\n",
    "plt.scatter(x_NNLS[0], x_NNLS[1]) # NNLS solution is green dot\n",
    "plt.colorbar()\n",
    "plt.show()"
   ]
  },
  {
   "cell_type": "markdown",
   "id": "a8d23fc7",
   "metadata": {},
   "source": [
    "Color stand for the cost $\\|Ax-b\\|_2$. Red lines mark the nonnegative orthant. Solution to the LS problem is at the center of the darkest ellipse."
   ]
  },
  {
   "cell_type": "code",
   "execution_count": null,
   "id": "f8599b25",
   "metadata": {},
   "outputs": [],
   "source": []
  }
 ],
 "metadata": {
  "jupytext": {
   "formats": "ipynb,md:myst"
  },
  "kernelspec": {
   "display_name": "Python 3 (ipykernel)",
   "language": "python",
   "name": "python3"
  },
  "language_info": {
   "codemirror_mode": {
    "name": "ipython",
    "version": 3
   },
   "file_extension": ".py",
   "mimetype": "text/x-python",
   "name": "python",
   "nbconvert_exporter": "python",
   "pygments_lexer": "ipython3",
   "version": "3.11.0"
  }
 },
 "nbformat": 4,
 "nbformat_minor": 5
}
