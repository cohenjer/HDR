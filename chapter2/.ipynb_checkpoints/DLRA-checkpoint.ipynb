{
 "cells": [
  {
   "cell_type": "code",
   "execution_count": null,
   "metadata": {},
   "outputs": [],
   "source": [
    "# Dictionary-based Low-Rank Approximations\n",
    "\n",
    "C'est un gros morceau\n",
    "\n",
    "## DCPD and the mixed sparse coding problem\n",
    "\n",
    "## DCPD, one-sparse\n",
    "\n",
    "## Multiple Dictionaries"
   ]
  },
  {
   "cell_type": "markdown",
   "metadata": {},
   "source": []
  }
 ],
 "metadata": {
  "language_info": {
   "name": "python"
  }
 },
 "nbformat": 4,
 "nbformat_minor": 2
}
